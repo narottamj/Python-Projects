{
 "cells": [
  {
   "cell_type": "markdown",
   "id": "bea3b04a-7706-4cf2-8e9c-8b13fd486ce8",
   "metadata": {},
   "source": [
    "Tic Tac Toe Game"
   ]
  },
  {
   "cell_type": "markdown",
   "id": "41a718c5-aac9-4dfb-9b76-aaae024c8355",
   "metadata": {},
   "source": [
    "2x2 board representation"
   ]
  },
  {
   "cell_type": "code",
   "execution_count": null,
   "id": "83daa72e-8f32-4e60-971f-652054d4b708",
   "metadata": {},
   "outputs": [],
   "source": [
    "from IPython.display import clear_output\n",
    "\n",
    "def display_board(board):\n",
    "    \n",
    "    if board != ['#',' ',' ',' ',' ',' ',' ',' ',' ',' ']:\n",
    "        clear_output()\n",
    "    print(\"\\n\")\n",
    "    print(board[7]+' | '+board[8]+' | '+board[9])\n",
    "    print('--|---|--')\n",
    "    print(board[4]+' | '+board[5]+' | '+board[6])\n",
    "    print('--|---|--')\n",
    "    print(board[1]+' | '+board[2]+' | '+board[3])"
   ]
  },
  {
   "cell_type": "markdown",
   "id": "a19fff76-38bd-4b5e-98d7-aa7a7d91d2cd",
   "metadata": {},
   "source": [
    "Take in user input and assign their marker (X or O)"
   ]
  },
  {
   "cell_type": "code",
   "execution_count": null,
   "id": "0a70c6c1-d84c-4f00-8c6d-a7fc3fbf06fa",
   "metadata": {},
   "outputs": [],
   "source": [
    "def player_input():\n",
    "    \n",
    "    marker=\"\"\n",
    "    while marker not in ['X','O']:\n",
    "        marker=input(\"Player 1: Select your marker - X or O\\n\").upper()\n",
    "        if marker not in ['X','O']:\n",
    "            print(\"Invalid entry, try again.\")\n",
    "    if marker == 'X':\n",
    "        return ('X', 'O')\n",
    "    else:\n",
    "        return ('O', 'X')"
   ]
  },
  {
   "cell_type": "markdown",
   "id": "5d55efa4-a239-4537-af25-01a4702ba17a",
   "metadata": {},
   "source": [
    "Assign player's marker to choice of position on board"
   ]
  },
  {
   "cell_type": "code",
   "execution_count": null,
   "id": "8abc0430-0c0d-4aa6-b01b-e226778b4887",
   "metadata": {},
   "outputs": [],
   "source": [
    "def place_marker(board, marker, position):\n",
    "    \n",
    "    board[position]=marker"
   ]
  },
  {
   "cell_type": "markdown",
   "id": "df61f230-666a-4639-9403-64e2651a8d5e",
   "metadata": {},
   "source": [
    "Check if X or O has won"
   ]
  },
  {
   "cell_type": "code",
   "execution_count": null,
   "id": "a9805ad8-4476-44db-a740-eb5560a65fc7",
   "metadata": {},
   "outputs": [],
   "source": [
    "def win_check(board, mark):\n",
    "    \n",
    "    return ((board[7] == mark and board[8] == mark and board[9] == mark) or # across the top\n",
    "    (board[4] == mark and board[5] == mark and board[6] == mark) or # across the middle\n",
    "    (board[1] == mark and board[2] == mark and board[3] == mark) or # across the bottom\n",
    "    (board[7] == mark and board[4] == mark and board[1] == mark) or # down the middle\n",
    "    (board[8] == mark and board[5] == mark and board[2] == mark) or # down the middle\n",
    "    (board[9] == mark and board[6] == mark and board[3] == mark) or # down the right side\n",
    "    (board[7] == mark and board[5] == mark and board[3] == mark) or # diagonal\n",
    "    (board[9] == mark and board[5] == mark and board[1] == mark)) # diagonal"
   ]
  },
  {
   "cell_type": "markdown",
   "id": "30fba8b5-3add-4400-988f-f1eea9aa07ad",
   "metadata": {},
   "source": [
    "Randomly determine which player goes first"
   ]
  },
  {
   "cell_type": "code",
   "execution_count": null,
   "id": "5905c44e-d922-4135-a1f0-f52670d92a80",
   "metadata": {},
   "outputs": [],
   "source": [
    "import random\n",
    "\n",
    "def choose_first():\n",
    "    if random.randint(1, 2) == 2:\n",
    "        return 'Player 2'\n",
    "    else:\n",
    "        return 'Player 1'"
   ]
  },
  {
   "cell_type": "markdown",
   "id": "2458437f-3e3f-43ae-9156-fd6034c987bc",
   "metadata": {},
   "source": [
    "Check if a specific position on board is available"
   ]
  },
  {
   "cell_type": "code",
   "execution_count": null,
   "id": "9e2dd45b-f96a-4aaf-8d49-7bcdd7e0c6a6",
   "metadata": {},
   "outputs": [],
   "source": [
    "def space_check(board, position):\n",
    "    \n",
    "    return board[position]==\" \""
   ]
  },
  {
   "cell_type": "markdown",
   "id": "01119a8b-6f97-4aff-a86f-f8eaadfaefe4",
   "metadata": {},
   "source": [
    "Check if the entire board is full"
   ]
  },
  {
   "cell_type": "code",
   "execution_count": null,
   "id": "3a5f8e94-8859-4ec4-9716-258c3ebb3011",
   "metadata": {},
   "outputs": [],
   "source": [
    "def full_board_check(board):\n",
    "    \n",
    "    a=0\n",
    "    for i in board:\n",
    "        if i==\" \":\n",
    "            a+=1\n",
    "    return a==0"
   ]
  },
  {
   "cell_type": "markdown",
   "id": "04c0c4f7-9a87-4a2d-b5b5-4f2074383085",
   "metadata": {},
   "source": [
    "Take in user input for choice of position to place their marker on board. Also check if that position is vacant."
   ]
  },
  {
   "cell_type": "code",
   "execution_count": null,
   "id": "59d38095-3ac1-44e2-a405-c8c52dfa2a16",
   "metadata": {},
   "outputs": [],
   "source": [
    "def player_choice(board):\n",
    "    \n",
    "    position=0\n",
    "    while position not in range (1,10):\n",
    "        position=int(input(\"Where would you like to place your marker (1-9)?:\"))\n",
    "        if position not in range (1,10):\n",
    "            print(\"Invalid entry. Try again\")\n",
    "        else:\n",
    "            if space_check(board, position):\n",
    "                return position\n",
    "            else:\n",
    "                print(\"Sorry, that position is already taken.\")\n",
    "                position=0"
   ]
  },
  {
   "cell_type": "markdown",
   "id": "50bc8a9c-f6aa-4776-8316-1c045b251037",
   "metadata": {},
   "source": [
    "Ask players if they want to replay the game."
   ]
  },
  {
   "cell_type": "code",
   "execution_count": null,
   "id": "995458a6-65f4-41a3-ad03-08658175f279",
   "metadata": {},
   "outputs": [],
   "source": [
    "def replay():\n",
    "    \n",
    "    if input(\"Do you want to play again (Y or N)?\") in [\"Y\",\"y\"]:\n",
    "        return True"
   ]
  },
  {
   "cell_type": "markdown",
   "id": "088cd40b-16fb-4b0c-9e85-64eac1ea494e",
   "metadata": {},
   "source": [
    "Final code to run the gameplay."
   ]
  },
  {
   "cell_type": "code",
   "execution_count": null,
   "id": "ff116009-6b14-4861-8f51-80e87b832c86",
   "metadata": {},
   "outputs": [],
   "source": [
    "print('Welcome to Tic Tac Toe!\\n')\n",
    "\n",
    "sample_board = ['#','1','2','3','4','5','6','7','8','9']\n",
    "\n",
    "while True:\n",
    "\n",
    "    board = ['#',' ',' ',' ',' ',' ',' ',' ',' ',' ']\n",
    "    p1_m, p2_m = player_input()\n",
    "    turn = choose_first()\n",
    "    print(\"Based on random selection,\" + turn + ' goes first.')\n",
    "    play=input(\"Hit enter to start game\")\n",
    "    if play==\"\":\n",
    "        game_on=True\n",
    "        display_board(sample_board)\n",
    "    else:\n",
    "        game_on=False\n",
    "        break\n",
    "    \n",
    "    while game_on:\n",
    "        if turn=='Player 1':            \n",
    "            position=player_choice(board)\n",
    "            place_marker(board, p1_m, position)\n",
    "            display_board(board)\n",
    "            if win_check(board, p1_m):\n",
    "                print(\"Congratulations! Player 1 wins.\")\n",
    "                break\n",
    "            else:\n",
    "                if full_board_check(board):\n",
    "                    print(\"It's a draw\")\n",
    "                    break\n",
    "                else:\n",
    "                    turn='Player 2'\n",
    "                    \n",
    "        else:\n",
    "            position=player_choice(board)\n",
    "            place_marker(board, p2_m, position)\n",
    "            display_board(board)\n",
    "            if win_check(board, p2_m):\n",
    "                print(\"Congratulations! Player 2 wins.\")\n",
    "                break\n",
    "            else:\n",
    "                if full_board_check(board):\n",
    "                    print(\"It's a draw\")\n",
    "                    break\n",
    "                else:\n",
    "                    turn='Player 1'  \n",
    "        \n",
    "    if not replay():\n",
    "        break"
   ]
  }
 ],
 "metadata": {
  "kernelspec": {
   "display_name": "Python 3 (ipykernel)",
   "language": "python",
   "name": "python3"
  },
  "language_info": {
   "codemirror_mode": {
    "name": "ipython",
    "version": 3
   },
   "file_extension": ".py",
   "mimetype": "text/x-python",
   "name": "python",
   "nbconvert_exporter": "python",
   "pygments_lexer": "ipython3",
   "version": "3.9.12"
  }
 },
 "nbformat": 4,
 "nbformat_minor": 5
}
